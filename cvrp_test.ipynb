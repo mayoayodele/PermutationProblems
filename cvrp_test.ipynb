{
 "cells": [
  {
   "cell_type": "code",
   "execution_count": 10,
   "metadata": {},
   "outputs": [],
   "source": [
    "\n",
    "import numpy as np\n",
    "from Problems.Problem_CVRP import Problem_CVRP"
   ]
  },
  {
   "cell_type": "code",
   "execution_count": 11,
   "metadata": {},
   "outputs": [],
   "source": [
    "path = 'Problems//CVRP//A-n32-k5.vrp'\n"
   ]
  },
  {
   "cell_type": "code",
   "execution_count": 12,
   "metadata": {},
   "outputs": [],
   "source": [
    "cvrp = Problem_CVRP(path)"
   ]
  },
  {
   "cell_type": "code",
   "execution_count": 13,
   "metadata": {},
   "outputs": [
    {
     "data": {
      "text/plain": [
       "[[21, 31, 19, 17, 13, 7, 26],\n",
       " [12, 1, 16, 30],\n",
       " [27, 24],\n",
       " [29, 18, 8, 9, 22, 15, 10, 25, 5, 20],\n",
       " [14, 28, 11, 4, 23, 3, 2, 6]]"
      ]
     },
     "execution_count": 13,
     "metadata": {},
     "output_type": "execute_result"
    }
   ],
   "source": [
    "routes = cvrp.solution['routes']\n",
    "routes"
   ]
  },
  {
   "cell_type": "code",
   "execution_count": 14,
   "metadata": {},
   "outputs": [
    {
     "data": {
      "text/plain": [
       "784"
      ]
     },
     "execution_count": 14,
     "metadata": {},
     "output_type": "execute_result"
    }
   ],
   "source": [
    "\n",
    "cvrp.f(routes)"
   ]
  },
  {
   "cell_type": "code",
   "execution_count": 15,
   "metadata": {},
   "outputs": [
    {
     "data": {
      "text/plain": [
       "784"
      ]
     },
     "execution_count": 15,
     "metadata": {},
     "output_type": "execute_result"
    }
   ],
   "source": [
    "cvrp.optimal"
   ]
  },
  {
   "cell_type": "code",
   "execution_count": 6,
   "metadata": {},
   "outputs": [
    {
     "data": {
      "text/plain": [
       "array([[  0,  35,  78, ...,  62,  16,  73],\n",
       "       [ 35,   0,  60, ...,  80,  19,  39],\n",
       "       [ 78,  60,   0, ...,  72,  65,  48],\n",
       "       ...,\n",
       "       [ 62,  80,  72, ...,   0,  66, 102],\n",
       "       [ 16,  19,  65, ...,  66,   0,  57],\n",
       "       [ 73,  39,  48, ..., 102,  57,   0]])"
      ]
     },
     "execution_count": 6,
     "metadata": {},
     "output_type": "execute_result"
    }
   ],
   "source": [
    "cvrp.distance_matrix"
   ]
  }
 ],
 "metadata": {
  "kernelspec": {
   "display_name": "ocean_ford",
   "language": "python",
   "name": "python3"
  },
  "language_info": {
   "codemirror_mode": {
    "name": "ipython",
    "version": 3
   },
   "file_extension": ".py",
   "mimetype": "text/x-python",
   "name": "python",
   "nbconvert_exporter": "python",
   "pygments_lexer": "ipython3",
   "version": "3.12.0"
  }
 },
 "nbformat": 4,
 "nbformat_minor": 2
}
